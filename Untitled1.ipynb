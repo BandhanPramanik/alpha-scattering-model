{
  "nbformat": 4,
  "nbformat_minor": 0,
  "metadata": {
    "colab": {
      "provenance": [],
      "authorship_tag": "ABX9TyOc0plIAp+GkxaJ7KokjOwJ"
    },
    "kernelspec": {
      "name": "python3",
      "display_name": "Python 3"
    },
    "language_info": {
      "name": "python"
    },
    "widgets": {
      "application/vnd.jupyter.widget-state+json": {
        "5c79672fe16240be9c7453fabeb57556": {
          "model_module": "@jupyter-widgets/controls",
          "model_name": "VBoxModel",
          "model_module_version": "1.5.0",
          "state": {
            "_dom_classes": [
              "widget-interact"
            ],
            "_model_module": "@jupyter-widgets/controls",
            "_model_module_version": "1.5.0",
            "_model_name": "VBoxModel",
            "_view_count": null,
            "_view_module": "@jupyter-widgets/controls",
            "_view_module_version": "1.5.0",
            "_view_name": "VBoxView",
            "box_style": "",
            "children": [
              "IPY_MODEL_a48abb557c6d4876a3ab4af023858ff9",
              "IPY_MODEL_d79120dd5c7a4932a23d7523b7ab0832",
              "IPY_MODEL_ec99f174cdca4c3eb7c7f94730d1f62f"
            ],
            "layout": "IPY_MODEL_73dd3418215e47c2901a58b4b6e3ad79"
          }
        },
        "a48abb557c6d4876a3ab4af023858ff9": {
          "model_module": "@jupyter-widgets/controls",
          "model_name": "FloatSliderModel",
          "model_module_version": "1.5.0",
          "state": {
            "_dom_classes": [],
            "_model_module": "@jupyter-widgets/controls",
            "_model_module_version": "1.5.0",
            "_model_name": "FloatSliderModel",
            "_view_count": null,
            "_view_module": "@jupyter-widgets/controls",
            "_view_module_version": "1.5.0",
            "_view_name": "FloatSliderView",
            "continuous_update": true,
            "description": "q1 (C)",
            "description_tooltip": null,
            "disabled": false,
            "layout": "IPY_MODEL_817c9847683b45ca99bd848ea6b8a464",
            "max": 0.000001,
            "min": -0.000001,
            "orientation": "horizontal",
            "readout": true,
            "readout_format": ".2f",
            "step": 1e-7,
            "style": "IPY_MODEL_1cfa39f45b7949d6bf7a4fb78b910423",
            "value": 0
          }
        },
        "d79120dd5c7a4932a23d7523b7ab0832": {
          "model_module": "@jupyter-widgets/controls",
          "model_name": "FloatSliderModel",
          "model_module_version": "1.5.0",
          "state": {
            "_dom_classes": [],
            "_model_module": "@jupyter-widgets/controls",
            "_model_module_version": "1.5.0",
            "_model_name": "FloatSliderModel",
            "_view_count": null,
            "_view_module": "@jupyter-widgets/controls",
            "_view_module_version": "1.5.0",
            "_view_name": "FloatSliderView",
            "continuous_update": true,
            "description": "q2 (C)",
            "description_tooltip": null,
            "disabled": false,
            "layout": "IPY_MODEL_a6185a1e21dc43ae850998c7f74124f9",
            "max": 0.000001,
            "min": -0.000001,
            "orientation": "horizontal",
            "readout": true,
            "readout_format": ".2f",
            "step": 1e-7,
            "style": "IPY_MODEL_bcdf1fd7f7dc41a3adc725db2192afda",
            "value": 0.000001
          }
        },
        "ec99f174cdca4c3eb7c7f94730d1f62f": {
          "model_module": "@jupyter-widgets/output",
          "model_name": "OutputModel",
          "model_module_version": "1.0.0",
          "state": {
            "_dom_classes": [],
            "_model_module": "@jupyter-widgets/output",
            "_model_module_version": "1.0.0",
            "_model_name": "OutputModel",
            "_view_count": null,
            "_view_module": "@jupyter-widgets/output",
            "_view_module_version": "1.0.0",
            "_view_name": "OutputView",
            "layout": "IPY_MODEL_3463db8a92654281a5621216f0373727",
            "msg_id": "",
            "outputs": [
              {
                "output_type": "display_data",
                "data": {
                  "text/plain": "<Figure size 640x480 with 1 Axes>",
                  "image/png": "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\n"
                },
                "metadata": {}
              }
            ]
          }
        },
        "73dd3418215e47c2901a58b4b6e3ad79": {
          "model_module": "@jupyter-widgets/base",
          "model_name": "LayoutModel",
          "model_module_version": "1.2.0",
          "state": {
            "_model_module": "@jupyter-widgets/base",
            "_model_module_version": "1.2.0",
            "_model_name": "LayoutModel",
            "_view_count": null,
            "_view_module": "@jupyter-widgets/base",
            "_view_module_version": "1.2.0",
            "_view_name": "LayoutView",
            "align_content": null,
            "align_items": null,
            "align_self": null,
            "border": null,
            "bottom": null,
            "display": null,
            "flex": null,
            "flex_flow": null,
            "grid_area": null,
            "grid_auto_columns": null,
            "grid_auto_flow": null,
            "grid_auto_rows": null,
            "grid_column": null,
            "grid_gap": null,
            "grid_row": null,
            "grid_template_areas": null,
            "grid_template_columns": null,
            "grid_template_rows": null,
            "height": null,
            "justify_content": null,
            "justify_items": null,
            "left": null,
            "margin": null,
            "max_height": null,
            "max_width": null,
            "min_height": null,
            "min_width": null,
            "object_fit": null,
            "object_position": null,
            "order": null,
            "overflow": null,
            "overflow_x": null,
            "overflow_y": null,
            "padding": null,
            "right": null,
            "top": null,
            "visibility": null,
            "width": null
          }
        },
        "817c9847683b45ca99bd848ea6b8a464": {
          "model_module": "@jupyter-widgets/base",
          "model_name": "LayoutModel",
          "model_module_version": "1.2.0",
          "state": {
            "_model_module": "@jupyter-widgets/base",
            "_model_module_version": "1.2.0",
            "_model_name": "LayoutModel",
            "_view_count": null,
            "_view_module": "@jupyter-widgets/base",
            "_view_module_version": "1.2.0",
            "_view_name": "LayoutView",
            "align_content": null,
            "align_items": null,
            "align_self": null,
            "border": null,
            "bottom": null,
            "display": null,
            "flex": null,
            "flex_flow": null,
            "grid_area": null,
            "grid_auto_columns": null,
            "grid_auto_flow": null,
            "grid_auto_rows": null,
            "grid_column": null,
            "grid_gap": null,
            "grid_row": null,
            "grid_template_areas": null,
            "grid_template_columns": null,
            "grid_template_rows": null,
            "height": null,
            "justify_content": null,
            "justify_items": null,
            "left": null,
            "margin": null,
            "max_height": null,
            "max_width": null,
            "min_height": null,
            "min_width": null,
            "object_fit": null,
            "object_position": null,
            "order": null,
            "overflow": null,
            "overflow_x": null,
            "overflow_y": null,
            "padding": null,
            "right": null,
            "top": null,
            "visibility": null,
            "width": null
          }
        },
        "1cfa39f45b7949d6bf7a4fb78b910423": {
          "model_module": "@jupyter-widgets/controls",
          "model_name": "SliderStyleModel",
          "model_module_version": "1.5.0",
          "state": {
            "_model_module": "@jupyter-widgets/controls",
            "_model_module_version": "1.5.0",
            "_model_name": "SliderStyleModel",
            "_view_count": null,
            "_view_module": "@jupyter-widgets/base",
            "_view_module_version": "1.2.0",
            "_view_name": "StyleView",
            "description_width": "",
            "handle_color": null
          }
        },
        "a6185a1e21dc43ae850998c7f74124f9": {
          "model_module": "@jupyter-widgets/base",
          "model_name": "LayoutModel",
          "model_module_version": "1.2.0",
          "state": {
            "_model_module": "@jupyter-widgets/base",
            "_model_module_version": "1.2.0",
            "_model_name": "LayoutModel",
            "_view_count": null,
            "_view_module": "@jupyter-widgets/base",
            "_view_module_version": "1.2.0",
            "_view_name": "LayoutView",
            "align_content": null,
            "align_items": null,
            "align_self": null,
            "border": null,
            "bottom": null,
            "display": null,
            "flex": null,
            "flex_flow": null,
            "grid_area": null,
            "grid_auto_columns": null,
            "grid_auto_flow": null,
            "grid_auto_rows": null,
            "grid_column": null,
            "grid_gap": null,
            "grid_row": null,
            "grid_template_areas": null,
            "grid_template_columns": null,
            "grid_template_rows": null,
            "height": null,
            "justify_content": null,
            "justify_items": null,
            "left": null,
            "margin": null,
            "max_height": null,
            "max_width": null,
            "min_height": null,
            "min_width": null,
            "object_fit": null,
            "object_position": null,
            "order": null,
            "overflow": null,
            "overflow_x": null,
            "overflow_y": null,
            "padding": null,
            "right": null,
            "top": null,
            "visibility": null,
            "width": null
          }
        },
        "bcdf1fd7f7dc41a3adc725db2192afda": {
          "model_module": "@jupyter-widgets/controls",
          "model_name": "SliderStyleModel",
          "model_module_version": "1.5.0",
          "state": {
            "_model_module": "@jupyter-widgets/controls",
            "_model_module_version": "1.5.0",
            "_model_name": "SliderStyleModel",
            "_view_count": null,
            "_view_module": "@jupyter-widgets/base",
            "_view_module_version": "1.2.0",
            "_view_name": "StyleView",
            "description_width": "",
            "handle_color": null
          }
        },
        "3463db8a92654281a5621216f0373727": {
          "model_module": "@jupyter-widgets/base",
          "model_name": "LayoutModel",
          "model_module_version": "1.2.0",
          "state": {
            "_model_module": "@jupyter-widgets/base",
            "_model_module_version": "1.2.0",
            "_model_name": "LayoutModel",
            "_view_count": null,
            "_view_module": "@jupyter-widgets/base",
            "_view_module_version": "1.2.0",
            "_view_name": "LayoutView",
            "align_content": null,
            "align_items": null,
            "align_self": null,
            "border": null,
            "bottom": null,
            "display": null,
            "flex": null,
            "flex_flow": null,
            "grid_area": null,
            "grid_auto_columns": null,
            "grid_auto_flow": null,
            "grid_auto_rows": null,
            "grid_column": null,
            "grid_gap": null,
            "grid_row": null,
            "grid_template_areas": null,
            "grid_template_columns": null,
            "grid_template_rows": null,
            "height": null,
            "justify_content": null,
            "justify_items": null,
            "left": null,
            "margin": null,
            "max_height": null,
            "max_width": null,
            "min_height": null,
            "min_width": null,
            "object_fit": null,
            "object_position": null,
            "order": null,
            "overflow": null,
            "overflow_x": null,
            "overflow_y": null,
            "padding": null,
            "right": null,
            "top": null,
            "visibility": null,
            "width": null
          }
        },
        "a562e31dc8ed4e84b5419fe59c381ac4": {
          "model_module": "@jupyter-widgets/controls",
          "model_name": "VBoxModel",
          "model_module_version": "1.5.0",
          "state": {
            "_dom_classes": [
              "widget-interact"
            ],
            "_model_module": "@jupyter-widgets/controls",
            "_model_module_version": "1.5.0",
            "_model_name": "VBoxModel",
            "_view_count": null,
            "_view_module": "@jupyter-widgets/controls",
            "_view_module_version": "1.5.0",
            "_view_name": "VBoxView",
            "box_style": "",
            "children": [
              "IPY_MODEL_51ef94e01b2b4bc98e0e46ff12775e18",
              "IPY_MODEL_fcb23605712641c087dbf4a5449ae5a3",
              "IPY_MODEL_f06e00765bda49bdb5e5daacb10926a3"
            ],
            "layout": "IPY_MODEL_728b859a50d348c7990d4c6ce1a8e6d0"
          }
        },
        "51ef94e01b2b4bc98e0e46ff12775e18": {
          "model_module": "@jupyter-widgets/controls",
          "model_name": "DropdownModel",
          "model_module_version": "1.5.0",
          "state": {
            "_dom_classes": [],
            "_model_module": "@jupyter-widgets/controls",
            "_model_module_version": "1.5.0",
            "_model_name": "DropdownModel",
            "_options_labels": [
              "Electron",
              "Alpha Particle",
              "Proton"
            ],
            "_view_count": null,
            "_view_module": "@jupyter-widgets/controls",
            "_view_module_version": "1.5.0",
            "_view_name": "DropdownView",
            "description": "Charge 1 Type:",
            "description_tooltip": null,
            "disabled": false,
            "index": 0,
            "layout": "IPY_MODEL_75cb759ace514738bb23ca9647355ede",
            "style": "IPY_MODEL_de194a263106472b85cacdbb76d7e4c4"
          }
        },
        "fcb23605712641c087dbf4a5449ae5a3": {
          "model_module": "@jupyter-widgets/controls",
          "model_name": "DropdownModel",
          "model_module_version": "1.5.0",
          "state": {
            "_dom_classes": [],
            "_model_module": "@jupyter-widgets/controls",
            "_model_module_version": "1.5.0",
            "_model_name": "DropdownModel",
            "_options_labels": [
              "Electron",
              "Alpha Particle",
              "Proton"
            ],
            "_view_count": null,
            "_view_module": "@jupyter-widgets/controls",
            "_view_module_version": "1.5.0",
            "_view_name": "DropdownView",
            "description": "Charge 2 Type:",
            "description_tooltip": null,
            "disabled": false,
            "index": 0,
            "layout": "IPY_MODEL_253e9879de4444d7b9b8f7deac82b9dd",
            "style": "IPY_MODEL_ebf1878d73c045578e2ea1e7a8c013d5"
          }
        },
        "f06e00765bda49bdb5e5daacb10926a3": {
          "model_module": "@jupyter-widgets/output",
          "model_name": "OutputModel",
          "model_module_version": "1.0.0",
          "state": {
            "_dom_classes": [],
            "_model_module": "@jupyter-widgets/output",
            "_model_module_version": "1.0.0",
            "_model_name": "OutputModel",
            "_view_count": null,
            "_view_module": "@jupyter-widgets/output",
            "_view_module_version": "1.0.0",
            "_view_name": "OutputView",
            "layout": "IPY_MODEL_fd4303b44b02436d8ce53dacbfbf9de3",
            "msg_id": "",
            "outputs": [
              {
                "output_type": "display_data",
                "data": {
                  "text/plain": "<Figure size 640x480 with 1 Axes>",
                  "image/png": "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\n"
                },
                "metadata": {}
              }
            ]
          }
        },
        "728b859a50d348c7990d4c6ce1a8e6d0": {
          "model_module": "@jupyter-widgets/base",
          "model_name": "LayoutModel",
          "model_module_version": "1.2.0",
          "state": {
            "_model_module": "@jupyter-widgets/base",
            "_model_module_version": "1.2.0",
            "_model_name": "LayoutModel",
            "_view_count": null,
            "_view_module": "@jupyter-widgets/base",
            "_view_module_version": "1.2.0",
            "_view_name": "LayoutView",
            "align_content": null,
            "align_items": null,
            "align_self": null,
            "border": null,
            "bottom": null,
            "display": null,
            "flex": null,
            "flex_flow": null,
            "grid_area": null,
            "grid_auto_columns": null,
            "grid_auto_flow": null,
            "grid_auto_rows": null,
            "grid_column": null,
            "grid_gap": null,
            "grid_row": null,
            "grid_template_areas": null,
            "grid_template_columns": null,
            "grid_template_rows": null,
            "height": null,
            "justify_content": null,
            "justify_items": null,
            "left": null,
            "margin": null,
            "max_height": null,
            "max_width": null,
            "min_height": null,
            "min_width": null,
            "object_fit": null,
            "object_position": null,
            "order": null,
            "overflow": null,
            "overflow_x": null,
            "overflow_y": null,
            "padding": null,
            "right": null,
            "top": null,
            "visibility": null,
            "width": null
          }
        },
        "75cb759ace514738bb23ca9647355ede": {
          "model_module": "@jupyter-widgets/base",
          "model_name": "LayoutModel",
          "model_module_version": "1.2.0",
          "state": {
            "_model_module": "@jupyter-widgets/base",
            "_model_module_version": "1.2.0",
            "_model_name": "LayoutModel",
            "_view_count": null,
            "_view_module": "@jupyter-widgets/base",
            "_view_module_version": "1.2.0",
            "_view_name": "LayoutView",
            "align_content": null,
            "align_items": null,
            "align_self": null,
            "border": null,
            "bottom": null,
            "display": null,
            "flex": null,
            "flex_flow": null,
            "grid_area": null,
            "grid_auto_columns": null,
            "grid_auto_flow": null,
            "grid_auto_rows": null,
            "grid_column": null,
            "grid_gap": null,
            "grid_row": null,
            "grid_template_areas": null,
            "grid_template_columns": null,
            "grid_template_rows": null,
            "height": null,
            "justify_content": null,
            "justify_items": null,
            "left": null,
            "margin": null,
            "max_height": null,
            "max_width": null,
            "min_height": null,
            "min_width": null,
            "object_fit": null,
            "object_position": null,
            "order": null,
            "overflow": null,
            "overflow_x": null,
            "overflow_y": null,
            "padding": null,
            "right": null,
            "top": null,
            "visibility": null,
            "width": null
          }
        },
        "de194a263106472b85cacdbb76d7e4c4": {
          "model_module": "@jupyter-widgets/controls",
          "model_name": "DescriptionStyleModel",
          "model_module_version": "1.5.0",
          "state": {
            "_model_module": "@jupyter-widgets/controls",
            "_model_module_version": "1.5.0",
            "_model_name": "DescriptionStyleModel",
            "_view_count": null,
            "_view_module": "@jupyter-widgets/base",
            "_view_module_version": "1.2.0",
            "_view_name": "StyleView",
            "description_width": ""
          }
        },
        "253e9879de4444d7b9b8f7deac82b9dd": {
          "model_module": "@jupyter-widgets/base",
          "model_name": "LayoutModel",
          "model_module_version": "1.2.0",
          "state": {
            "_model_module": "@jupyter-widgets/base",
            "_model_module_version": "1.2.0",
            "_model_name": "LayoutModel",
            "_view_count": null,
            "_view_module": "@jupyter-widgets/base",
            "_view_module_version": "1.2.0",
            "_view_name": "LayoutView",
            "align_content": null,
            "align_items": null,
            "align_self": null,
            "border": null,
            "bottom": null,
            "display": null,
            "flex": null,
            "flex_flow": null,
            "grid_area": null,
            "grid_auto_columns": null,
            "grid_auto_flow": null,
            "grid_auto_rows": null,
            "grid_column": null,
            "grid_gap": null,
            "grid_row": null,
            "grid_template_areas": null,
            "grid_template_columns": null,
            "grid_template_rows": null,
            "height": null,
            "justify_content": null,
            "justify_items": null,
            "left": null,
            "margin": null,
            "max_height": null,
            "max_width": null,
            "min_height": null,
            "min_width": null,
            "object_fit": null,
            "object_position": null,
            "order": null,
            "overflow": null,
            "overflow_x": null,
            "overflow_y": null,
            "padding": null,
            "right": null,
            "top": null,
            "visibility": null,
            "width": null
          }
        },
        "ebf1878d73c045578e2ea1e7a8c013d5": {
          "model_module": "@jupyter-widgets/controls",
          "model_name": "DescriptionStyleModel",
          "model_module_version": "1.5.0",
          "state": {
            "_model_module": "@jupyter-widgets/controls",
            "_model_module_version": "1.5.0",
            "_model_name": "DescriptionStyleModel",
            "_view_count": null,
            "_view_module": "@jupyter-widgets/base",
            "_view_module_version": "1.2.0",
            "_view_name": "StyleView",
            "description_width": ""
          }
        },
        "fd4303b44b02436d8ce53dacbfbf9de3": {
          "model_module": "@jupyter-widgets/base",
          "model_name": "LayoutModel",
          "model_module_version": "1.2.0",
          "state": {
            "_model_module": "@jupyter-widgets/base",
            "_model_module_version": "1.2.0",
            "_model_name": "LayoutModel",
            "_view_count": null,
            "_view_module": "@jupyter-widgets/base",
            "_view_module_version": "1.2.0",
            "_view_name": "LayoutView",
            "align_content": null,
            "align_items": null,
            "align_self": null,
            "border": null,
            "bottom": null,
            "display": null,
            "flex": null,
            "flex_flow": null,
            "grid_area": null,
            "grid_auto_columns": null,
            "grid_auto_flow": null,
            "grid_auto_rows": null,
            "grid_column": null,
            "grid_gap": null,
            "grid_row": null,
            "grid_template_areas": null,
            "grid_template_columns": null,
            "grid_template_rows": null,
            "height": null,
            "justify_content": null,
            "justify_items": null,
            "left": null,
            "margin": null,
            "max_height": null,
            "max_width": null,
            "min_height": null,
            "min_width": null,
            "object_fit": null,
            "object_position": null,
            "order": null,
            "overflow": null,
            "overflow_x": null,
            "overflow_y": null,
            "padding": null,
            "right": null,
            "top": null,
            "visibility": null,
            "width": null
          }
        }
      }
    }
  },
  "cells": [
    {
      "cell_type": "code",
      "execution_count": null,
      "metadata": {
        "colab": {
          "base_uri": "https://localhost:8080/"
        },
        "id": "FeZmpJGTQrnR",
        "outputId": "077e5c8c-6fe4-4ec6-f304-5a0f562cbacc"
      },
      "outputs": [
        {
          "output_type": "stream",
          "name": "stdout",
          "text": [
            "x =  [-2, 2]\n"
          ]
        }
      ],
      "source": [
        "import sympy\n",
        "from sympy import symbols\n",
        "from sympy.solvers import solve\n",
        "\n",
        "x = symbols('x')\n",
        "\n",
        "eq = x**2 - 4\n",
        "\n",
        "print(\"x = \", solve(eq, x))"
      ]
    },
    {
      "cell_type": "code",
      "source": [
        "import sympy as sp\n",
        "from sympy import symbols as okok\n",
        "\n",
        "# Define\n",
        "t = okok('t')\n",
        "k = 8.987E9\n",
        "q1, q2 = okok('q1 q2')\n",
        "r = okok('r', positive=True)\n",
        "b = okok('b', positive=True)\n",
        "\n",
        "eq = (k*q1*q2) / r**2\n",
        "print(eq)\n"
      ],
      "metadata": {
        "colab": {
          "base_uri": "https://localhost:8080/"
        },
        "id": "Y5SDICmbTDTe",
        "outputId": "317866ff-2cbe-40af-ef64-60dc1d459138"
      },
      "execution_count": null,
      "outputs": [
        {
          "output_type": "stream",
          "name": "stdout",
          "text": [
            "8987000000.0*q1*q2/r**2\n"
          ]
        }
      ]
    },
    {
      "cell_type": "code",
      "metadata": {
        "colab": {
          "base_uri": "https://localhost:8080/",
          "height": 550,
          "referenced_widgets": [
            "5c79672fe16240be9c7453fabeb57556",
            "a48abb557c6d4876a3ab4af023858ff9",
            "d79120dd5c7a4932a23d7523b7ab0832",
            "ec99f174cdca4c3eb7c7f94730d1f62f",
            "73dd3418215e47c2901a58b4b6e3ad79",
            "817c9847683b45ca99bd848ea6b8a464",
            "1cfa39f45b7949d6bf7a4fb78b910423",
            "a6185a1e21dc43ae850998c7f74124f9",
            "bcdf1fd7f7dc41a3adc725db2192afda",
            "3463db8a92654281a5621216f0373727"
          ]
        },
        "id": "aeaed263",
        "outputId": "d28ee5b0-af46-44fc-ef59-b59f6f89c2f4"
      },
      "source": [
        "import sympy as sp\n",
        "from sympy.plotting import plot\n",
        "from ipywidgets import interact, FloatSlider\n",
        "import matplotlib.pyplot as plt\n",
        "\n",
        "# Define the variables\n",
        "q1, q2, r = sp.symbols('q1 q2 r', real=True)\n",
        "k = 8.987e9\n",
        "\n",
        "# Define the equation for electric force\n",
        "force_eq = (k * q1 * q2) / r**2\n",
        "\n",
        "# Define a function to plot the force\n",
        "def plot_force(q1_val, q2_val):\n",
        "    # Substitute the values into the equation\n",
        "    force_plot_expr = force_eq.subs({q1: q1_val, q2: q2_val})\n",
        "\n",
        "    # Plot the force equation with respect to r, for a range of r values\n",
        "    # We need to define a variable to plot against, let's use 'r' again\n",
        "    r_plot_var = sp.symbols('r', real=True)\n",
        "\n",
        "\n",
        "    # Create the plot\n",
        "    p = plot(force_plot_expr, (r_plot_var, 0.1, 10), show=False, ylabel='Force')\n",
        "\n",
        "    # Customize the plot\n",
        "    p.title = f'Electric Force (q1={q1_val}, q2={q2_val})'\n",
        "    p.xlabel = 'Distance (r)'\n",
        "\n",
        "    # Display the plot\n",
        "    p.show()\n",
        "\n",
        "# Create interactive sliders for the variables\n",
        "interact(plot_force,\n",
        "         q1_val=FloatSlider(min=-1e-6, max=1e-6, step=1e-7, value=1e-7, description='q1 (C)'),\n",
        "         q2_val=FloatSlider(min=-1e-6, max=1e-6, step=1e-7, value=1e-7, description='q2 (C)'));"
      ],
      "execution_count": null,
      "outputs": [
        {
          "output_type": "display_data",
          "data": {
            "text/plain": [
              "interactive(children=(FloatSlider(value=1e-07, description='q1 (C)', max=1e-06, min=-1e-06, step=1e-07), Float…"
            ],
            "application/vnd.jupyter.widget-view+json": {
              "version_major": 2,
              "version_minor": 0,
              "model_id": "5c79672fe16240be9c7453fabeb57556"
            }
          },
          "metadata": {}
        }
      ]
    },
    {
      "cell_type": "code",
      "source": [
        "import sympy as sp\n",
        "from sympy.plotting import plot\n",
        "from ipywidgets import interact, FloatSlider, Dropdown\n",
        "import matplotlib.pyplot as plt\n",
        "\n",
        "# Define the variables\n",
        "q1, q2, r = sp.symbols('q1 q2 r', real=True)\n",
        "k = 8.987e9\n",
        "\n",
        "# Define the equation for electric force\n",
        "force_eq = (k * q1 * q2) / r**2\n",
        "\n",
        "# Define charge values for particles\n",
        "charge_values = {\n",
        "    'Electron': -1.602e-19,\n",
        "    'Alpha Particle': 2 * 1.602e-19, # Alpha particle has +2e charge\n",
        "    'Proton': 1.602e-19,\n",
        "}\n",
        "\n",
        "# Define a function to plot the force\n",
        "def plot_force(q1_type, q2_type):\n",
        "    # Get charge values based on type\n",
        "    q1_val = charge_values[q1_type]\n",
        "    q2_val = charge_values[q2_type]\n",
        "\n",
        "    # Substitute the values into the equation\n",
        "    force_plot_expr = force_eq.subs({q1: q1_val, q2: q2_val})\n",
        "\n",
        "    # Plot the force equation with respect to r, for a range of r values\n",
        "    r_plot_var = sp.symbols('r', real=True)\n",
        "\n",
        "    # Create the plot\n",
        "    p = plot(force_plot_expr, (r_plot_var, 0.1e-9, 10e-9), show=False, ylabel='Force', xlabel='Distance (r)') # Using a smaller range for r, more relevant to atomic/subatomic scales\n",
        "\n",
        "    # Customize the plot\n",
        "    p.title = f'Electric Force ({q1_type}, {q2_type})'\n",
        "\n",
        "    # Display the plot\n",
        "    p.show()\n",
        "\n",
        "# Create interactive dropdowns for the charge types\n",
        "interact(plot_force,\n",
        "         q1_type=Dropdown(options=charge_values.keys(), value='Electron', description='Charge 1 Type:'),\n",
        "         q2_type=Dropdown(options=charge_values.keys(), value='Alpha Particle', description='Charge 2 Type:'));"
      ],
      "metadata": {
        "colab": {
          "base_uri": "https://localhost:8080/",
          "height": 549,
          "referenced_widgets": [
            "a562e31dc8ed4e84b5419fe59c381ac4",
            "51ef94e01b2b4bc98e0e46ff12775e18",
            "fcb23605712641c087dbf4a5449ae5a3",
            "f06e00765bda49bdb5e5daacb10926a3",
            "728b859a50d348c7990d4c6ce1a8e6d0",
            "75cb759ace514738bb23ca9647355ede",
            "de194a263106472b85cacdbb76d7e4c4",
            "253e9879de4444d7b9b8f7deac82b9dd",
            "ebf1878d73c045578e2ea1e7a8c013d5",
            "fd4303b44b02436d8ce53dacbfbf9de3"
          ]
        },
        "id": "7aJwl9-_ckUw",
        "outputId": "90385cb8-3e07-4925-b193-b9b3e50db3d8"
      },
      "execution_count": 48,
      "outputs": [
        {
          "output_type": "display_data",
          "data": {
            "text/plain": [
              "interactive(children=(Dropdown(description='Charge 1 Type:', options=('Electron', 'Alpha Particle', 'Proton'),…"
            ],
            "application/vnd.jupyter.widget-view+json": {
              "version_major": 2,
              "version_minor": 0,
              "model_id": "a562e31dc8ed4e84b5419fe59c381ac4"
            }
          },
          "metadata": {}
        }
      ]
    },
    {
      "cell_type": "code",
      "source": [
        "import sympy as sp\n",
        "from sympy import symbols as okok\n",
        "from sympy import diff\n",
        "\n",
        "# Define\n",
        "charge_values = {\n",
        "    'Electron': -1.602176634e-19,\n",
        "    'Alpha Particle': 2 * 1.602176634e-19, # Alpha particle has +2e charge\n",
        "    'Proton': 1.602176634e-19,\n",
        "}\n",
        "t = okok('t')\n",
        "k = 8.9875E9\n",
        "q1, q2 = charge_values['Alpha Particle'], charge_values['Electron']\n",
        "r = okok('r', positive=True)\n",
        "\n",
        "eq = (k*q1*q2) / r**2\n",
        "dx = diff(eq, r)\n",
        "dx2 = diff(eq, r, r)\n",
        "curve = abs(dx2) / ((1 + dx**2)**(3/2))\n",
        "print(curve)"
      ],
      "metadata": {
        "colab": {
          "base_uri": "https://localhost:8080/"
        },
        "id": "wHcrLKVGeRo6",
        "outputId": "826b255f-d81e-40f3-a4ad-acb5ac60b746"
      },
      "execution_count": 43,
      "outputs": [
        {
          "output_type": "stream",
          "name": "stdout",
          "text": [
            "2.76847710890861e-27/(r**4*(1 + 8.51607278061221e-55/r**6)**1.5)\n"
          ]
        }
      ]
    },
    {
      "cell_type": "code",
      "metadata": {
        "colab": {
          "base_uri": "https://localhost:8080/",
          "height": 485
        },
        "id": "064f2335",
        "outputId": "fcceb1a9-6dd9-4b68-b1ea-304b46ad8a54"
      },
      "source": [
        "import sympy as sp\n",
        "from sympy.plotting import plot\n",
        "\n",
        "# The curvature equation from the previous cell\n",
        "curvature_eq = 1.38423855445431e-27/(r**4*(1 + 2.12901819515305e-55/r**6)**1.5)\n",
        "\n",
        "# Define the variable for plotting\n",
        "r_plot_var = sp.symbols('r', real=True, positive=True) # r should be positive\n",
        "\n",
        "# Plot the curvature equation with respect to r\n",
        "p = plot(curvature_eq, (r_plot_var, 0.1e-9, 10e-9), show=False, ylabel='Curvature', xlabel='Distance (r)', title='Curvature of Electric Force vs. Distance')\n",
        "\n",
        "# Display the plot\n",
        "p.show()"
      ],
      "execution_count": 57,
      "outputs": [
        {
          "output_type": "display_data",
          "data": {
            "text/plain": [
              "<Figure size 640x480 with 1 Axes>"
            ],
            "image/png": "[encoded data removed]"
          },
          "metadata": {}
        }
      ]
    },
    {
      "cell_type": "code",
      "source": [
        "import sympy\n",
        "import math\n",
        "from sympy import symbols\n",
        "\n",
        "r = symbols('r', positive=True)\n",
        "eq = 2.76847710890861e-27/(r**4*(1 + 8.51607278061221e-55/r**6)**1.5)\n",
        "dx = diff(eq, r)\n",
        "knee = solve(dx, r)\n",
        "print(knee)"
      ],
      "metadata": {
        "colab": {
          "base_uri": "https://localhost:8080/"
        },
        "id": "nsXveFzuiRuR",
        "outputId": "403a85ac-30fd-4886-ded4-0395d4dd16a5"
      },
      "execution_count": null,
      "outputs": [
        {
          "output_type": "stream",
          "name": "stdout",
          "text": [
            "[1.01047342495453e-9]\n"
          ]
        }
      ]
    },
    {
      "cell_type": "code",
      "source": [
        "mantissa = 1.01047342495453\n",
        "string = \"e-9\"\n",
        "print(\"The stable distance b/w an alpha particle and an electron is: %.2fe-9\" % mantissa)"
      ],
      "metadata": {
        "colab": {
          "base_uri": "https://localhost:8080/"
        },
        "id": "8aZ5uuZtjUDX",
        "outputId": "f4448bfa-7e02-442a-b0cf-8b8382d04961"
      },
      "execution_count": null,
      "outputs": [
        {
          "output_type": "stream",
          "name": "stdout",
          "text": [
            "The stable distance b/w an alpha particle and an electron is: 1.01e-9\n"
          ]
        }
      ]
    },
    {
      "cell_type": "code",
      "source": [
        "import sympy as sp\n",
        "from sympy import symbols as okok\n",
        "from sympy import diff\n",
        "\n",
        "# Define\n",
        "charge_values = {\n",
        "    'Electron': -1.602176634e-19,\n",
        "    'Alpha Particle': 2 * 1.602176634e-19, # Alpha particle has +2e charge\n",
        "    'Proton': 1.602176634e-19,\n",
        "}\n",
        "k = 8.9875E9\n",
        "q1, q2 = charge_values['Electron'], charge_values['Electron']\n",
        "r = okok('r', positive=True)\n",
        "\n",
        "# Coulomb's law\n",
        "eq = (k*q1*q2) / r**2\n",
        "print(eq)\n",
        "\n",
        "\n",
        "F = eq.subs(r, 8.020132888793660E-10)\n",
        "print(\"Force at knee:\", F)"
      ],
      "metadata": {
        "colab": {
          "base_uri": "https://localhost:8080/"
        },
        "id": "CFsi9OkBIgJI",
        "outputId": "7f9278df-7c10-43bb-cb3f-366337ce1ab2"
      },
      "execution_count": 63,
      "outputs": [
        {
          "output_type": "stream",
          "name": "stdout",
          "text": [
            "2.30706425742384e-28/r**2\n",
            "Force at knee: 3.58671246558487e-10\n"
          ]
        }
      ]
    },
    {
      "cell_type": "code",
      "source": [
        "# Combined\n",
        "\n",
        "import sympy as sp\n",
        "from sympy import symbols as okok\n",
        "from sympy import diff\n",
        "\n",
        "# Define\n",
        "charge_values = {\n",
        "    'Electron': -1.602176634e-19,\n",
        "    'Alpha Particle': 2 * 1.602176634e-19, # Alpha particle has +2e charge\n",
        "    'Proton': 1.602176634e-19,\n",
        "}\n",
        "k = 8.9875E9\n",
        "q1, q2 = charge_values['Alpha Particle'], charge_values['Electron']\n",
        "r = okok('r', positive=True)\n",
        "\n",
        "# Coulomb's law\n",
        "eq = (k*q1*q2) / r**2\n",
        "print(eq)\n",
        "# Finding the curvature of the curve given by the expression\n",
        "dx = diff(eq, r)\n",
        "dx2 = diff(eq, r, r)\n",
        "curve = abs(dx2) / ((1 + dx**2)**(3/2))\n",
        "print(\"Curvature of the curve:\\n\" + str(curve))\n",
        "\n",
        "# Finding the inflection point of the curve\n",
        "# (where the bendiness starts to get different)\n",
        "dx = diff(curve, r)\n",
        "print(\"Final equation for the knee: \" + str(dx), \"= 0\")\n",
        "knee = solve(dx, r)\n",
        "print(\"Solution(s) for the knee:\", knee)\n",
        "\n",
        "# Finding the value of the force at knee\n",
        "F = eq.subs(r, knee[0])\n",
        "print(\"Force at knee:\", F)"
      ],
      "metadata": {
        "colab": {
          "base_uri": "https://localhost:8080/"
        },
        "id": "4OeK-SIR7whW",
        "outputId": "9259d9df-74d3-4612-d102-844d08d44a89"
      },
      "execution_count": 61,
      "outputs": [
        {
          "output_type": "stream",
          "name": "stdout",
          "text": [
            "-4.61412851484769e-28/r**2\n",
            "Curvature of the curve:\n",
            "2.76847710890861e-27/(r**4*(1 + 8.51607278061221e-55/r**6)**1.5)\n",
            "Final equation for the knee: -1.10739084356344e-26/(r**5*(1 + 8.51607278061221e-55/r**6)**1.5) + 2.12188972958321e-80/(r**11*(1 + 8.51607278061221e-55/r**6)**2.5) = 0\n",
            "Solution(s) for the knee: [1.01047342495453e-9]\n",
            "Force at knee: -4.51897453531071e-10\n"
          ]
        }
      ]
    },
    {
      "cell_type": "markdown",
      "source": [
        "# Electrostatic force between an Alpha particle and an Electron\n",
        "\n",
        "Curvature of the curve:\n",
        "$$\\frac{2.76847 \\times 10^{-27}}{r^4 \\times (1 + \\frac{8.51607 \\times 10^{-55}}{r^6})^{\\frac 3 2}}$$\n",
        "\n",
        "Solution at knee: $r = 1.010 \\times 10^{-9} \\text{m}, F = -4.519 \\times 10^{-10} \\text{N}$\n"
      ],
      "metadata": {
        "id": "t-7QFOcD8yTQ"
      }
    },
    {
      "cell_type": "markdown",
      "source": [
        "# Electrostatic force between two electrons\n",
        "Curvature of the curve:\n",
        "$$\\frac{1.38423 \\times 10^{-27}}{r^4 \\times (1 + \\frac{2.12901 \\times 10^{-55}}{r^6})^{\\frac 3 2}}$$\n",
        "Solution at knee: $r = 8.020 \\times 10^{-10} \\text{m}, F = 3.587 \\times 10^{-10} \\text{N}$"
      ],
      "metadata": {
        "id": "_dbE8QmFHS_4"
      }
    }
  ]
}