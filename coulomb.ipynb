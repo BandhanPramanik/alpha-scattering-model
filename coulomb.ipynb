{
  "nbformat": 4,
  "nbformat_minor": 0,
  "metadata": {
    "colab": {
      "provenance": [],
      "authorship_tag": "ABX9TyOc0plIAp+GkxaJ7KokjOwJ"
    },
    "kernelspec": {
      "name": "python3",
      "display_name": "Python 3"
    },
    "language_info": {
      "name": "python"
    }
  },
  "cells": [
    {
      "cell_type": "code",
      "execution_count": null,
      "metadata": {
        "id": "FeZmpJGTQrnR"
      },
      "outputs": [],
      "source": [
        "import sympy\n",
        "from sympy import symbols\n",
        "from sympy.solvers import solve\n",
        "\n",
        "x = symbols('x')\n",
        "\n",
        "eq = x**2 - 4\n",
        "\n",
        "print(\"x = \", solve(eq, x))"
      ]
    },
    {
      "cell_type": "code",
      "source": [
        "import sympy as sp\n",
        "from sympy import symbols as okok\n",
        "\n",
        "# Define\n",
        "t = okok('t')\n",
        "k = 8.987E9\n",
        "q1, q2 = okok('q1 q2')\n",
        "r = okok('r', positive=True)\n",
        "b = okok('b', positive=True)\n",
        "\n",
        "eq = (k*q1*q2) / r**2\n",
        "print(eq)\n"
      ],
      "metadata": {
        "id": "Y5SDICmbTDTe"
      },
      "execution_count": null,
      "outputs": []
    },
    {
      "cell_type": "code",
      "metadata": {
        "id": "aeaed263"
      },
      "source": [
        "import sympy as sp\n",
        "from sympy.plotting import plot\n",
        "from ipywidgets import interact, FloatSlider\n",
        "import matplotlib.pyplot as plt\n",
        "\n",
        "# Define the variables\n",
        "q1, q2, r = sp.symbols('q1 q2 r', real=True)\n",
        "k = 8.987e9\n",
        "\n",
        "# Define the equation for electric force\n",
        "force_eq = (k * q1 * q2) / r**2\n",
        "\n",
        "# Define a function to plot the force\n",
        "def plot_force(q1_val, q2_val):\n",
        "    # Substitute the values into the equation\n",
        "    force_plot_expr = force_eq.subs({q1: q1_val, q2: q2_val})\n",
        "\n",
        "    # Plot the force equation with respect to r, for a range of r values\n",
        "    # We need to define a variable to plot against, let's use 'r' again\n",
        "    r_plot_var = sp.symbols('r', real=True)\n",
        "\n",
        "\n",
        "    # Create the plot\n",
        "    p = plot(force_plot_expr, (r_plot_var, 0.1, 10), show=False, ylabel='Force')\n",
        "\n",
        "    # Customize the plot\n",
        "    p.title = f'Electric Force (q1={q1_val}, q2={q2_val})'\n",
        "    p.xlabel = 'Distance (r)'\n",
        "\n",
        "    # Display the plot\n",
        "    p.show()\n",
        "\n",
        "# Create interactive sliders for the variables\n",
        "interact(plot_force,\n",
        "         q1_val=FloatSlider(min=-1e-6, max=1e-6, step=1e-7, value=1e-7, description='q1 (C)'),\n",
        "         q2_val=FloatSlider(min=-1e-6, max=1e-6, step=1e-7, value=1e-7, description='q2 (C)'));"
      ],
      "execution_count": null,
      "outputs": []
    },
    {
      "cell_type": "code",
      "source": [
        "import sympy as sp\n",
        "from sympy.plotting import plot\n",
        "from ipywidgets import interact, FloatSlider, Dropdown\n",
        "import matplotlib.pyplot as plt\n",
        "\n",
        "# Define the variables\n",
        "q1, q2, r = sp.symbols('q1 q2 r', real=True)\n",
        "k = 8.987e9\n",
        "\n",
        "# Define the equation for electric force\n",
        "force_eq = (k * q1 * q2) / r**2\n",
        "\n",
        "# Define charge values for particles\n",
        "charge_values = {\n",
        "    'Electron': -1.602e-19,\n",
        "    'Alpha Particle': 2 * 1.602e-19, # Alpha particle has +2e charge\n",
        "    'Proton': 1.602e-19,\n",
        "}\n",
        "\n",
        "# Define a function to plot the force\n",
        "def plot_force(q1_type, q2_type):\n",
        "    # Get charge values based on type\n",
        "    q1_val = charge_values[q1_type]\n",
        "    q2_val = charge_values[q2_type]\n",
        "\n",
        "    # Substitute the values into the equation\n",
        "    force_plot_expr = force_eq.subs({q1: q1_val, q2: q2_val})\n",
        "\n",
        "    # Plot the force equation with respect to r, for a range of r values\n",
        "    r_plot_var = sp.symbols('r', real=True)\n",
        "\n",
        "    # Create the plot\n",
        "    p = plot(force_plot_expr, (r_plot_var, 0.1e-9, 10e-9), show=False, ylabel='Force', xlabel='Distance (r)') # Using a smaller range for r, more relevant to atomic/subatomic scales\n",
        "\n",
        "    # Customize the plot\n",
        "    p.title = f'Electric Force ({q1_type}, {q2_type})'\n",
        "\n",
        "    # Display the plot\n",
        "    p.show()\n",
        "\n",
        "# Create interactive dropdowns for the charge types\n",
        "interact(plot_force,\n",
        "         q1_type=Dropdown(options=charge_values.keys(), value='Electron', description='Charge 1 Type:'),\n",
        "         q2_type=Dropdown(options=charge_values.keys(), value='Alpha Particle', description='Charge 2 Type:'));"
      ],
      "metadata": {
        "id": "7aJwl9-_ckUw"
      },
      "execution_count": null,
      "outputs": []
    },
    {
      "cell_type": "code",
      "source": [
        "import sympy as sp\n",
        "from sympy import symbols as okok\n",
        "from sympy import diff\n",
        "\n",
        "# Define\n",
        "charge_values = {\n",
        "    'Electron': -1.602176634e-19,\n",
        "    'Alpha Particle': 2 * 1.602176634e-19, # Alpha particle has +2e charge\n",
        "    'Proton': 1.602176634e-19,\n",
        "}\n",
        "t = okok('t')\n",
        "k = 8.9875E9\n",
        "q1, q2 = charge_values['Alpha Particle'], charge_values['Electron']\n",
        "r = okok('r', positive=True)\n",
        "\n",
        "eq = (k*q1*q2) / r**2\n",
        "dx = diff(eq, r)\n",
        "dx2 = diff(eq, r, r)\n",
        "curve = abs(dx2) / ((1 + dx**2)**(3/2))\n",
        "print(curve)"
      ],
      "metadata": {
        "id": "wHcrLKVGeRo6"
      },
      "execution_count": null,
      "outputs": []
    },
    {
      "cell_type": "code",
      "metadata": {
        "id": "064f2335"
      },
      "source": [
        "import sympy as sp\n",
        "from sympy.plotting import plot\n",
        "\n",
        "# The curvature equation from the previous cell\n",
        "curvature_eq = 1.38423855445431e-27/(r**4*(1 + 2.12901819515305e-55/r**6)**1.5)\n",
        "\n",
        "# Define the variable for plotting\n",
        "r_plot_var = sp.symbols('r', real=True, positive=True) # r should be positive\n",
        "\n",
        "# Plot the curvature equation with respect to r\n",
        "p = plot(curvature_eq, (r_plot_var, 0.1e-9, 10e-9), show=False, ylabel='Curvature', xlabel='Distance (r)', title='Curvature of Electric Force vs. Distance')\n",
        "\n",
        "# Display the plot\n",
        "p.show()"
      ],
      "execution_count": null,
      "outputs": []
    },
    {
      "cell_type": "code",
      "source": [
        "import sympy\n",
        "import math\n",
        "from sympy import symbols\n",
        "\n",
        "r = symbols('r', positive=True)\n",
        "eq = 2.76847710890861e-27/(r**4*(1 + 8.51607278061221e-55/r**6)**1.5)\n",
        "dx = diff(eq, r)\n",
        "knee = solve(dx, r)\n",
        "print(knee)"
      ],
      "metadata": {
        "id": "nsXveFzuiRuR"
      },
      "execution_count": null,
      "outputs": []
    },
    {
      "cell_type": "code",
      "source": [
        "mantissa = 1.01047342495453\n",
        "string = \"e-9\"\n",
        "print(\"The stable distance b/w an alpha particle and an electron is: %.2fe-9\" % mantissa)"
      ],
      "metadata": {
        "id": "8aZ5uuZtjUDX"
      },
      "execution_count": null,
      "outputs": []
    },
    {
      "cell_type": "code",
      "source": [
        "import sympy as sp\n",
        "from sympy import symbols as okok\n",
        "from sympy import diff\n",
        "\n",
        "# Define\n",
        "charge_values = {\n",
        "    'Electron': -1.602176634e-19,\n",
        "    'Alpha Particle': 2 * 1.602176634e-19, # Alpha particle has +2e charge\n",
        "    'Proton': 1.602176634e-19,\n",
        "}\n",
        "k = 8.9875E9\n",
        "q1, q2 = charge_values['Electron'], charge_values['Electron']\n",
        "r = okok('r', positive=True)\n",
        "\n",
        "# Coulomb's law\n",
        "eq = (k*q1*q2) / r**2\n",
        "print(eq)\n",
        "\n",
        "\n",
        "F = eq.subs(r, 8.020132888793660E-10)\n",
        "print(\"Force at knee:\", F)"
      ],
      "metadata": {
        "id": "CFsi9OkBIgJI"
      },
      "execution_count": null,
      "outputs": []
    },
    {
      "cell_type": "code",
      "source": [
        "# Combined\n",
        "\n",
        "import sympy as sp\n",
        "from sympy import symbols as okok\n",
        "from sympy import diff\n",
        "\n",
        "# Define\n",
        "charge_values = {\n",
        "    'Electron': -1.602176634e-19,\n",
        "    'Alpha Particle': 2 * 1.602176634e-19, # Alpha particle has +2e charge\n",
        "    'Proton': 1.602176634e-19,\n",
        "}\n",
        "k = 8.9875E9\n",
        "q1, q2 = charge_values['Alpha Particle'], charge_values['Electron']\n",
        "r = okok('r', positive=True)\n",
        "\n",
        "# Coulomb's law\n",
        "eq = (k*q1*q2) / r**2\n",
        "print(eq)\n",
        "# Finding the curvature of the curve given by the expression\n",
        "dx = diff(eq, r)\n",
        "dx2 = diff(eq, r, r)\n",
        "curve = abs(dx2) / ((1 + dx**2)**(3/2))\n",
        "print(\"Curvature of the curve:\\n\" + str(curve))\n",
        "\n",
        "# Finding the inflection point of the curve\n",
        "# (where the bendiness starts to get different)\n",
        "dx = diff(curve, r)\n",
        "print(\"Final equation for the knee: \" + str(dx), \"= 0\")\n",
        "knee = solve(dx, r)\n",
        "print(\"Solution(s) for the knee:\", knee)\n",
        "\n",
        "# Finding the value of the force at knee\n",
        "F = eq.subs(r, knee[0])\n",
        "print(\"Force at knee:\", F)"
      ],
      "metadata": {
        "id": "4OeK-SIR7whW"
      },
      "execution_count": null,
      "outputs": []
    },
    {
      "cell_type": "markdown",
      "source": [
        "# Electrostatic force between an Alpha particle and an Electron\n",
        "\n",
        "Curvature of the curve:\n",
        "$$\\frac{2.76847 \\times 10^{-27}}{r^4 \\times (1 + \\frac{8.51607 \\times 10^{-55}}{r^6})^{\\frac 3 2}}$$\n",
        "\n",
        "Solution at knee: $r = 1.010 \\times 10^{-9} \\text{m}, F = -4.519 \\times 10^{-10} \\text{N}$\n"
      ],
      "metadata": {
        "id": "t-7QFOcD8yTQ"
      }
    },
    {
      "cell_type": "markdown",
      "source": [
        "# Electrostatic force between two electrons\n",
        "Curvature of the curve:\n",
        "$$\\frac{1.38423 \\times 10^{-27}}{r^4 \\times (1 + \\frac{2.12901 \\times 10^{-55}}{r^6})^{\\frac 3 2}}$$\n",
        "Solution at knee: $r = 8.020 \\times 10^{-10} \\text{m}, F = 3.587 \\times 10^{-10} \\text{N}$"
      ],
      "metadata": {
        "id": "_dbE8QmFHS_4"
      }
    }
  ]
}